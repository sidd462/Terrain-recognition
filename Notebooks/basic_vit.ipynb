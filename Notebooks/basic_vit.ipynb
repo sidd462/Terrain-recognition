{
 "cells": [
  {
   "cell_type": "code",
   "execution_count": 1,
   "metadata": {},
   "outputs": [
    {
     "name": "stdout",
     "output_type": "stream",
     "text": [
      "keras version:  2.13.1\n",
      "tensoflow version:  2.13.0\n"
     ]
    }
   ],
   "source": [
    "import os\n",
    "import numpy as np\n",
    "from matplotlib import pyplot as plt\n",
    "%matplotlib inline\n",
    "import keras\n",
    "print(\"keras version: \", keras.__version__)\n",
    "\n",
    "import tensorflow as tf\n",
    "print(\"tensoflow version: \", tf.__version__)"
   ]
  },
  {
   "cell_type": "code",
   "execution_count": 2,
   "metadata": {},
   "outputs": [],
   "source": [
    "import random\n",
    "random.seed(42)\n",
    "tf.random.set_seed(42)\n",
    "np.random.seed(42)"
   ]
  },
  {
   "cell_type": "code",
   "execution_count": 3,
   "metadata": {},
   "outputs": [],
   "source": [
    "train = \"data/1-Kaggle-4/1-Train\"\n",
    "test = \"data/1-Kaggle-4/2-Test\"\n",
    "val = \"data/1-Kaggle-4/2-Test\""
   ]
  },
  {
   "cell_type": "code",
   "execution_count": 4,
   "metadata": {},
   "outputs": [
    {
     "ename": "FileNotFoundError",
     "evalue": "[WinError 3] The system cannot find the path specified: 'data/1-Kaggle-4/1-Train'",
     "output_type": "error",
     "traceback": [
      "\u001b[1;31m---------------------------------------------------------------------------\u001b[0m",
      "\u001b[1;31mFileNotFoundError\u001b[0m                         Traceback (most recent call last)",
      "\u001b[1;32mUbuntu\\home\\sidd462\\github\\private\\Terrain-recognition\\Notebooks\\basic_vit.ipynb Cell 4\u001b[0m line \u001b[0;36m2\n\u001b[0;32m      <a href='vscode-notebook-cell://wsl.localhost/Ubuntu/home/sidd462/github/private/Terrain-recognition/Notebooks/basic_vit.ipynb#W3sZmlsZQ%3D%3D?line=0'>1</a>\u001b[0m train_names \u001b[39m=\u001b[39m []\n\u001b[1;32m----> <a href='vscode-notebook-cell://wsl.localhost/Ubuntu/home/sidd462/github/private/Terrain-recognition/Notebooks/basic_vit.ipynb#W3sZmlsZQ%3D%3D?line=1'>2</a>\u001b[0m train_names \u001b[39m=\u001b[39m [f \u001b[39mfor\u001b[39;00m f \u001b[39min\u001b[39;00m \u001b[39msorted\u001b[39m(os\u001b[39m.\u001b[39;49mlistdir(train))]\n\u001b[0;32m      <a href='vscode-notebook-cell://wsl.localhost/Ubuntu/home/sidd462/github/private/Terrain-recognition/Notebooks/basic_vit.ipynb#W3sZmlsZQ%3D%3D?line=3'>4</a>\u001b[0m \u001b[39mprint\u001b[39m(\u001b[39mlen\u001b[39m(train_names))\n",
      "\u001b[1;31mFileNotFoundError\u001b[0m: [WinError 3] The system cannot find the path specified: 'data/1-Kaggle-4/1-Train'"
     ]
    }
   ],
   "source": [
    "train_names = []\n",
    "train_names = [f for f in sorted(os.listdir(train))]\n",
    "\n",
    "print(len(train_names)) "
   ]
  },
  {
   "cell_type": "code",
   "execution_count": null,
   "metadata": {},
   "outputs": [],
   "source": []
  }
 ],
 "metadata": {
  "kernelspec": {
   "display_name": "tf",
   "language": "python",
   "name": "python3"
  },
  "language_info": {
   "codemirror_mode": {
    "name": "ipython",
    "version": 3
   },
   "file_extension": ".py",
   "mimetype": "text/x-python",
   "name": "python",
   "nbconvert_exporter": "python",
   "pygments_lexer": "ipython3",
   "version": "3.10.12"
  }
 },
 "nbformat": 4,
 "nbformat_minor": 2
}
